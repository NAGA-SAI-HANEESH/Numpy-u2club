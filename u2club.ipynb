{
  "nbformat": 4,
  "nbformat_minor": 0,
  "metadata": {
    "colab": {
      "name": "u2club.ipynb",
      "provenance": [],
      "collapsed_sections": [],
      "include_colab_link": true
    },
    "kernelspec": {
      "name": "python3",
      "display_name": "Python 3"
    }
  },
  "cells": [
    {
      "cell_type": "markdown",
      "metadata": {
        "id": "view-in-github",
        "colab_type": "text"
      },
      "source": [
        "<a href=\"https://colab.research.google.com/github/NAGA-SAI-HANEESH/Numpy-u2club/blob/main/u2club.ipynb\" target=\"_parent\"><img src=\"https://colab.research.google.com/assets/colab-badge.svg\" alt=\"Open In Colab\"/></a>"
      ]
    },
    {
      "cell_type": "markdown",
      "metadata": {
        "id": "ve9QlcB0gaND"
      },
      "source": [
        "**PYTHON LIST METHODS**"
      ]
    },
    {
      "cell_type": "code",
      "metadata": {
        "id": "rSZL1d2egZB2",
        "colab": {
          "base_uri": "https://localhost:8080/"
        },
        "outputId": "a15f3845-7f82-48a8-cf7d-f1336d2b6860"
      },
      "source": [
        "alist=[1,2,3,4,5,6,7,8,9,10]\r\n",
        "alist.append(11)\r\n",
        "print(alist)"
      ],
      "execution_count": null,
      "outputs": [
        {
          "output_type": "stream",
          "text": [
            "[1, 2, 3, 4, 5, 6, 7, 8, 9, 10, 11]\n"
          ],
          "name": "stdout"
        }
      ]
    },
    {
      "cell_type": "code",
      "metadata": {
        "id": "c9DP8BMPEQwa"
      },
      "source": [
        "print(alist.pop())#pops up last element of list\r\n",
        "alist.remove(3)#removing based on item\r\n",
        "del(alist[5])#removes based on index\r\n",
        "print(alist)"
      ],
      "execution_count": null,
      "outputs": []
    },
    {
      "cell_type": "code",
      "metadata": {
        "id": "kDP-qU-gEWYC",
        "colab": {
          "base_uri": "https://localhost:8080/"
        },
        "outputId": "3844a9b1-f700-4ab4-9f06-009358d633e1"
      },
      "source": [
        "alist.sort(reverse=True)\r\n",
        "print(alist)\r\n",
        "blist=alist.copy()\r\n",
        "print(blist)\r\n"
      ],
      "execution_count": null,
      "outputs": [
        {
          "output_type": "stream",
          "text": [
            "[6, 5, 4, 2, 1]\n",
            "[6, 5, 4, 2, 1]\n"
          ],
          "name": "stdout"
        }
      ]
    },
    {
      "cell_type": "code",
      "metadata": {
        "colab": {
          "base_uri": "https://localhost:8080/"
        },
        "id": "3eqyT_fzEmnd",
        "outputId": "5bf775ca-39c1-4beb-a368-eff3fec383b0"
      },
      "source": [
        "clist=[1,2,1,2,1,3,4,1,5,6,6,6,7]\r\n",
        "length=(clist.count(1))\r\n",
        "print(length)"
      ],
      "execution_count": null,
      "outputs": [
        {
          "output_type": "stream",
          "text": [
            "4\n"
          ],
          "name": "stdout"
        }
      ]
    },
    {
      "cell_type": "code",
      "metadata": {
        "id": "HvxLrCXgEqbc",
        "colab": {
          "base_uri": "https://localhost:8080/"
        },
        "outputId": "fab9ad3c-aed8-4dc8-ce98-5d2a597ccafa"
      },
      "source": [
        "clist.insert(3,0)\r\n",
        "print(clist)"
      ],
      "execution_count": null,
      "outputs": [
        {
          "output_type": "stream",
          "text": [
            "[1, 2, 1, 0, 2, 1, 3, 4, 1, 5, 6, 6, 6, 7]\n"
          ],
          "name": "stdout"
        }
      ]
    },
    {
      "cell_type": "code",
      "metadata": {
        "id": "bVoV9ySHEun-",
        "colab": {
          "base_uri": "https://localhost:8080/"
        },
        "outputId": "152e76b1-946d-4609-c5e5-43065ecc7398"
      },
      "source": [
        "alphabets = ['a', 'e','i', 'o', 'g', 'l', 'i', 'u']\r\n",
        "print(alphabets.index('i',3,7))"
      ],
      "execution_count": null,
      "outputs": [
        {
          "output_type": "stream",
          "text": [
            "6\n"
          ],
          "name": "stdout"
        }
      ]
    },
    {
      "cell_type": "markdown",
      "metadata": {
        "id": "Q2j69YRCm0y6"
      },
      "source": [
        "**PYTHON TUPLE METHODS**"
      ]
    },
    {
      "cell_type": "code",
      "metadata": {
        "id": "NP3BHNC9nDf1",
        "colab": {
          "base_uri": "https://localhost:8080/"
        },
        "outputId": "c651f171-6596-43be-b400-6728c589a744"
      },
      "source": [
        "t=(1,2,3,4,5,6)\r\n",
        "print(t)\r\n",
        "print(type(t))\r\n",
        "print(len(t))\r\n",
        "print(max(t))\r\n",
        "print(min(t))\r\n",
        "print(t[1:3])\r\n",
        "print(t[2])"
      ],
      "execution_count": null,
      "outputs": [
        {
          "output_type": "stream",
          "text": [
            "(1, 2, 3, 4, 5, 6)\n",
            "<class 'tuple'>\n",
            "6\n",
            "6\n",
            "1\n",
            "(2, 3)\n",
            "3\n"
          ],
          "name": "stdout"
        }
      ]
    },
    {
      "cell_type": "code",
      "metadata": {
        "id": "q5u4rsh_Mk5f",
        "colab": {
          "base_uri": "https://localhost:8080/"
        },
        "outputId": "26e1bf8d-1803-4a15-cfda-3905775b087c"
      },
      "source": [
        "a=tuple()\r\n",
        "a=(t*3)\r\n",
        "print(a)\r\n",
        "t=t+(7,11)\r\n",
        "print(t)\r\n",
        "y=(1,2,3)+(4,5)+(6,7)\r\n",
        "print(y)"
      ],
      "execution_count": null,
      "outputs": [
        {
          "output_type": "stream",
          "text": [
            "(1, 2, 3, 4, 5, 6, 1, 2, 3, 4, 5, 6, 1, 2, 3, 4, 5, 6)\n",
            "(1, 2, 3, 4, 5, 6, 7, 11)\n",
            "(1, 2, 3, 4, 5, 6, 7)\n"
          ],
          "name": "stdout"
        }
      ]
    },
    {
      "cell_type": "code",
      "metadata": {
        "id": "lCMmrauOMoel",
        "colab": {
          "base_uri": "https://localhost:8080/"
        },
        "outputId": "e8420d2d-ab01-4b80-aba4-7ad79aa26109"
      },
      "source": [
        "print(2 in t)\r\n",
        "print(8 in t)"
      ],
      "execution_count": null,
      "outputs": [
        {
          "output_type": "stream",
          "text": [
            "True\n",
            "False\n"
          ],
          "name": "stdout"
        }
      ]
    },
    {
      "cell_type": "markdown",
      "metadata": {
        "id": "Wn2r_WNRsRC8"
      },
      "source": [
        "**PYTHON DICTIONARY METHODS**"
      ]
    },
    {
      "cell_type": "code",
      "metadata": {
        "id": "tMLW7L7nsbfw",
        "colab": {
          "base_uri": "https://localhost:8080/"
        },
        "outputId": "15f05574-d3e7-4d38-ced1-98c5983962ac"
      },
      "source": [
        "d={\"physics\": 23,\r\n",
        "   \"chemistry\": 40,\r\n",
        "   \"maths\": 30}\r\n",
        "print(d)\r\n",
        "print(type(d))"
      ],
      "execution_count": null,
      "outputs": [
        {
          "output_type": "stream",
          "text": [
            "{'physics': 23, 'chemistry': 40, 'maths': 30}\n",
            "<class 'dict'>\n"
          ],
          "name": "stdout"
        }
      ]
    },
    {
      "cell_type": "code",
      "metadata": {
        "id": "y38gbhbTNOoC",
        "colab": {
          "base_uri": "https://localhost:8080/"
        },
        "outputId": "98f2fb5e-f727-402f-fd88-1b5898e439c6"
      },
      "source": [
        "d1 = d.copy()\r\n",
        "print(d1)\r\n",
        "d1.clear()\r\n",
        "print(d1)"
      ],
      "execution_count": null,
      "outputs": [
        {
          "output_type": "stream",
          "text": [
            "{'physics': 23, 'chemistry': 40, 'maths': 30}\n",
            "{}\n"
          ],
          "name": "stdout"
        }
      ]
    },
    {
      "cell_type": "code",
      "metadata": {
        "id": "hNeSgxkrNTCR",
        "colab": {
          "base_uri": "https://localhost:8080/"
        },
        "outputId": "579ee62b-0344-4987-ca83-8d30b48f49d7"
      },
      "source": [
        "print(d.get(\"physics\"))\r\n",
        "print(d.get(23))"
      ],
      "execution_count": null,
      "outputs": [
        {
          "output_type": "stream",
          "text": [
            "23\n",
            "None\n"
          ],
          "name": "stdout"
        }
      ]
    },
    {
      "cell_type": "code",
      "metadata": {
        "id": "NpXDnRXNNXZE",
        "colab": {
          "base_uri": "https://localhost:8080/"
        },
        "outputId": "96c9da43-45ea-4890-b5d6-58a1c1c3e1f1"
      },
      "source": [
        "a=d.items()                                 #important this converts a dictionary into a list of tuples\r\n",
        "print(a)\r\n",
        "print(type(a))"
      ],
      "execution_count": null,
      "outputs": [
        {
          "output_type": "stream",
          "text": [
            "dict_items([('physics', 23), ('chemistry', 40), ('maths', 30)])\n",
            "<class 'dict_items'>\n"
          ],
          "name": "stdout"
        }
      ]
    },
    {
      "cell_type": "code",
      "metadata": {
        "id": "Y6xF_xq1Nfj2",
        "colab": {
          "base_uri": "https://localhost:8080/"
        },
        "outputId": "8a188e2d-a57c-4e63-f6cb-cac46b2a7283"
      },
      "source": [
        "b=d.keys()                                   # this gives only keys in dictionary which is returned as a list\r\n",
        "print(b,type(b),sep='\\n')"
      ],
      "execution_count": null,
      "outputs": [
        {
          "output_type": "stream",
          "text": [
            "dict_keys(['physics', 'chemistry', 'maths'])\n",
            "<class 'dict_keys'>\n"
          ],
          "name": "stdout"
        }
      ]
    },
    {
      "cell_type": "code",
      "metadata": {
        "id": "dtHtHtKiNie8",
        "colab": {
          "base_uri": "https://localhost:8080/"
        },
        "outputId": "5b511c04-c57f-4c09-b26d-a511afa3d0a7"
      },
      "source": [
        "c=d.values()                                 #this gives only values in dictionary which is returned as a list\r\n",
        "print(c,type(c),sep='\\n')"
      ],
      "execution_count": null,
      "outputs": [
        {
          "output_type": "stream",
          "text": [
            "dict_values([23, 40, 30])\n",
            "<class 'dict_values'>\n"
          ],
          "name": "stdout"
        }
      ]
    },
    {
      "cell_type": "markdown",
      "metadata": {
        "id": "T4HgMk-gGIdH"
      },
      "source": [
        "**INSTALLING NUMPY PACKAGE**"
      ]
    },
    {
      "cell_type": "code",
      "metadata": {
        "id": "MlP1rWuYE2nO"
      },
      "source": [
        "pip install numpy"
      ],
      "execution_count": null,
      "outputs": []
    },
    {
      "cell_type": "markdown",
      "metadata": {
        "id": "fbH8OI6Il4OK"
      },
      "source": [
        "**CREATING NUMPY ARRAYS**\r\n"
      ]
    },
    {
      "cell_type": "code",
      "metadata": {
        "id": "YoYzqy8cetuj",
        "colab": {
          "base_uri": "https://localhost:8080/"
        },
        "outputId": "4e141de6-431d-41db-b3c2-5797f6c006a8"
      },
      "source": [
        "import numpy as np\r\n",
        "array_a1=np.array([1,2,3,4,5])\r\n",
        "print(array_a1)\r\n",
        "array_a2=np.array([[1,2,3,4],[5,6,7,8],[9,10,11,12]])\r\n",
        "print(array_a2)"
      ],
      "execution_count": null,
      "outputs": [
        {
          "output_type": "stream",
          "text": [
            "[1 2 3 4 5]\n",
            "[[ 1  2  3  4]\n",
            " [ 5  6  7  8]\n",
            " [ 9 10 11 12]]\n"
          ],
          "name": "stdout"
        }
      ]
    },
    {
      "cell_type": "markdown",
      "metadata": {
        "id": "daL4EpRRZT8e"
      },
      "source": [
        "**DATA TYPES**"
      ]
    },
    {
      "cell_type": "code",
      "metadata": {
        "id": "ZQqaOb9DhF2O",
        "colab": {
          "base_uri": "https://localhost:8080/"
        },
        "outputId": "18854197-d801-4e83-d989-31a40f59b14d"
      },
      "source": [
        "array_b=np.array([1,2,3,4,6],dtype=np.float)\r\n",
        "print(array_b)"
      ],
      "execution_count": null,
      "outputs": [
        {
          "output_type": "stream",
          "text": [
            "[1. 2. 3. 4. 6.]\n"
          ],
          "name": "stdout"
        }
      ]
    },
    {
      "cell_type": "markdown",
      "metadata": {
        "id": "S0eKH3tXsz0O"
      },
      "source": [
        "**SHAPE AND SIZE OF ARRAY**"
      ]
    },
    {
      "cell_type": "code",
      "metadata": {
        "id": "WzxxcVoNiGCC",
        "colab": {
          "base_uri": "https://localhost:8080/"
        },
        "outputId": "8e3ddf65-cce7-4b99-e055-22705551e367"
      },
      "source": [
        "array_c=np.array([[1,2,3],[1,2,3.3]])\r\n",
        "print(array_c)\r\n",
        "print(array_c.shape)\r\n",
        "print(array_c.size)"
      ],
      "execution_count": null,
      "outputs": [
        {
          "output_type": "stream",
          "text": [
            "[[1.  2.  3. ]\n",
            " [1.  2.  3.3]]\n",
            "(2, 3)\n",
            "6\n"
          ],
          "name": "stdout"
        }
      ]
    },
    {
      "cell_type": "code",
      "metadata": {
        "id": "DKNdHfN3i-fv",
        "colab": {
          "base_uri": "https://localhost:8080/"
        },
        "outputId": "c7e03b2b-8d70-4034-c1a7-0cb7dc0cd1e9"
      },
      "source": [
        "seq1='haneesh'\r\n",
        "seq2='sunil'\r\n",
        "seq3='rahul'\r\n",
        "array1=np.array([seq1,seq2,seq3])\r\n",
        "print(array1)\r\n",
        "print(array1.shape)\r\n",
        "print(array1.size)"
      ],
      "execution_count": null,
      "outputs": [
        {
          "output_type": "stream",
          "text": [
            "['haneesh' 'sunil' 'rahul']\n",
            "(3,)\n",
            "3\n"
          ],
          "name": "stdout"
        }
      ]
    },
    {
      "cell_type": "markdown",
      "metadata": {
        "id": "4Ox0QHJDncsj"
      },
      "source": [
        "***RESHAPING***"
      ]
    },
    {
      "cell_type": "code",
      "metadata": {
        "id": "TPYI6AqAmHhP",
        "colab": {
          "base_uri": "https://localhost:8080/"
        },
        "outputId": "91cafad7-75b0-43c4-d258-b2a246ca2f36"
      },
      "source": [
        "arr=np.array([[1,2,3,4,5,6,7],[8,9,10,11,12,13,14]])\r\n",
        "print(arr.size)\r\n",
        "print(arr)\r\n",
        "print(arr.reshape(7,2))#reshaping\r\n",
        "print(arr.T)#transpose"
      ],
      "execution_count": null,
      "outputs": [
        {
          "output_type": "stream",
          "text": [
            "14\n",
            "[[ 1  2  3  4  5  6  7]\n",
            " [ 8  9 10 11 12 13 14]]\n",
            "[[ 1  2]\n",
            " [ 3  4]\n",
            " [ 5  6]\n",
            " [ 7  8]\n",
            " [ 9 10]\n",
            " [11 12]\n",
            " [13 14]]\n",
            "[[ 1  8]\n",
            " [ 2  9]\n",
            " [ 3 10]\n",
            " [ 4 11]\n",
            " [ 5 12]\n",
            " [ 6 13]\n",
            " [ 7 14]]\n"
          ],
          "name": "stdout"
        }
      ]
    },
    {
      "cell_type": "markdown",
      "metadata": {
        "id": "78zxGmMpshIV"
      },
      "source": [
        "**DIFFERENT TYPES OF ARRAYS FILLING**"
      ]
    },
    {
      "cell_type": "code",
      "metadata": {
        "id": "AvROYGxFsE8l",
        "colab": {
          "base_uri": "https://localhost:8080/"
        },
        "outputId": "78d7194f-8fc1-4201-9ec5-9f9e7e00fd76"
      },
      "source": [
        "arraya=np.ones((4,4))\r\n",
        "print(arraya)"
      ],
      "execution_count": null,
      "outputs": [
        {
          "output_type": "stream",
          "text": [
            "[[1. 1. 1. 1.]\n",
            " [1. 1. 1. 1.]\n",
            " [1. 1. 1. 1.]\n",
            " [1. 1. 1. 1.]]\n"
          ],
          "name": "stdout"
        }
      ]
    },
    {
      "cell_type": "code",
      "metadata": {
        "id": "Dlg_PSLvN_9p",
        "colab": {
          "base_uri": "https://localhost:8080/"
        },
        "outputId": "c130e702-9c26-41e8-8c92-520df10568e3"
      },
      "source": [
        "arrayb=np.zeros((5,5))\r\n",
        "print(arrayb)"
      ],
      "execution_count": null,
      "outputs": [
        {
          "output_type": "stream",
          "text": [
            "[[0. 0. 0. 0. 0.]\n",
            " [0. 0. 0. 0. 0.]\n",
            " [0. 0. 0. 0. 0.]\n",
            " [0. 0. 0. 0. 0.]\n",
            " [0. 0. 0. 0. 0.]]\n"
          ],
          "name": "stdout"
        }
      ]
    },
    {
      "cell_type": "code",
      "metadata": {
        "id": "9Jua3o2ZOLeJ",
        "colab": {
          "base_uri": "https://localhost:8080/"
        },
        "outputId": "2702d9b4-1b75-4937-b631-36c0700be60b"
      },
      "source": [
        "arrayc=np.full((6,6),10 )\r\n",
        "print(arrayc)"
      ],
      "execution_count": null,
      "outputs": [
        {
          "output_type": "stream",
          "text": [
            "[[10 10 10 10 10 10]\n",
            " [10 10 10 10 10 10]\n",
            " [10 10 10 10 10 10]\n",
            " [10 10 10 10 10 10]\n",
            " [10 10 10 10 10 10]\n",
            " [10 10 10 10 10 10]]\n"
          ],
          "name": "stdout"
        }
      ]
    },
    {
      "cell_type": "code",
      "metadata": {
        "id": "3AKf4sAmOSxC",
        "colab": {
          "base_uri": "https://localhost:8080/"
        },
        "outputId": "7fe5fe12-87ba-4722-cbb5-ca33c5e4b692"
      },
      "source": [
        "arrayd=np.random.random((3,3))\r\n",
        "print(arrayd)"
      ],
      "execution_count": null,
      "outputs": [
        {
          "output_type": "stream",
          "text": [
            "[[0.54303457 0.25752987 0.13304967]\n",
            " [0.8625266  0.89733948 0.50204377]\n",
            " [0.95524388 0.55660801 0.61025995]]\n"
          ],
          "name": "stdout"
        }
      ]
    },
    {
      "cell_type": "code",
      "metadata": {
        "id": "__6_10MrOeZU",
        "colab": {
          "base_uri": "https://localhost:8080/"
        },
        "outputId": "855d200a-1021-403e-f61b-7d01c028baa7"
      },
      "source": [
        "arraye=np.arange(0,9,1)\r\n",
        "print(arraye)"
      ],
      "execution_count": null,
      "outputs": [
        {
          "output_type": "stream",
          "text": [
            "[0 1 2 3 4 5 6 7 8]\n"
          ],
          "name": "stdout"
        }
      ]
    },
    {
      "cell_type": "markdown",
      "metadata": {
        "id": "e0gcfBwn1T3o"
      },
      "source": [
        "**INDEXING**"
      ]
    },
    {
      "cell_type": "code",
      "metadata": {
        "id": "McLfzzaCDlbK",
        "colab": {
          "base_uri": "https://localhost:8080/"
        },
        "outputId": "5ad4815e-9c3e-45fa-df6b-0d82dfecd49a"
      },
      "source": [
        "a=np.array([[1,2,3,4],[5,6,7,8],[9,10,11,12],[13,14,15,16]])\r\n",
        "print(a[0],a[1])\r\n",
        "print(a[1,1])\r\n",
        "print(a[-2,-1])"
      ],
      "execution_count": null,
      "outputs": [
        {
          "output_type": "stream",
          "text": [
            "[1 2 3 4] [5 6 7 8]\n",
            "6\n",
            "12\n"
          ],
          "name": "stdout"
        }
      ]
    },
    {
      "cell_type": "markdown",
      "metadata": {
        "id": "PAEZDA3rYqYq"
      },
      "source": [
        "**SLICING**"
      ]
    },
    {
      "cell_type": "code",
      "metadata": {
        "id": "SIczIvB5p5e1",
        "colab": {
          "base_uri": "https://localhost:8080/"
        },
        "outputId": "2b4a37a9-2198-4848-a897-a86ca27738d2"
      },
      "source": [
        "#[start_rowno:end_rowno:slicing_rate,start_column:end_column:slicing_rate]\r\n",
        "row1=['a','b','c','d','e','f']\r\n",
        "row2=['g','h','i','j','k','l']\r\n",
        "row3=['m','n','o','p','q','r']\r\n",
        "row4=['s','t','u','v','w','x']\r\n",
        "t=np.array([row1,row2,row3,row4])\r\n",
        "print(t)\r\n",
        "#print(t[1])\r\n",
        "#print(t[:,2:4])\r\n",
        "#print(t[1:4,:])\r\n",
        "print(t[1:3,2:5])\r\n",
        "#print(t[:,0:4:2])"
      ],
      "execution_count": null,
      "outputs": [
        {
          "output_type": "stream",
          "text": [
            "[['a' 'b' 'c' 'd' 'e' 'f']\n",
            " ['g' 'h' 'i' 'j' 'k' 'l']\n",
            " ['m' 'n' 'o' 'p' 'q' 'r']\n",
            " ['s' 't' 'u' 'v' 'w' 'x']]\n",
            "[['i' 'j' 'k']\n",
            " ['o' 'p' 'q']]\n"
          ],
          "name": "stdout"
        }
      ]
    },
    {
      "cell_type": "markdown",
      "metadata": {
        "id": "ItfXJcmBjeGQ"
      },
      "source": [
        "**BOOLEAN**"
      ]
    },
    {
      "cell_type": "code",
      "metadata": {
        "id": "fTKLrQDwjgmq",
        "colab": {
          "base_uri": "https://localhost:8080/"
        },
        "outputId": "419c66b3-b8e5-4121-e6d8-a2207f18eea2"
      },
      "source": [
        "c=np.array([[1,2,3,4,5],[10,11,12,13,14]])\r\n",
        "print(c)\r\n",
        "boolc=c<5\r\n",
        "print(boolc)\r\n",
        "\r\n",
        "bool_values_c=np.where(c<5,c,0)\r\n",
        "print(bool_values_c)\r\n",
        "\r\n",
        "bool2_values_c=np.logical_and(c>5,c<12)\r\n",
        "print(bool2_values_c)"
      ],
      "execution_count": null,
      "outputs": [
        {
          "output_type": "stream",
          "text": [
            "[[ 1  2  3  4  5]\n",
            " [10 11 12 13 14]]\n",
            "[[ True  True  True  True False]\n",
            " [False False False False False]]\n",
            "[[1 2 3 4 0]\n",
            " [0 0 0 0 0]]\n",
            "[[False False False False False]\n",
            " [ True  True False False False]]\n"
          ],
          "name": "stdout"
        }
      ]
    },
    {
      "cell_type": "markdown",
      "metadata": {
        "id": "KC4SaxCrvW56"
      },
      "source": [
        "**SINGLE ARRAY OPERATIONS**"
      ]
    },
    {
      "cell_type": "code",
      "metadata": {
        "id": "QFyitY3rvnmn",
        "colab": {
          "base_uri": "https://localhost:8080/"
        },
        "outputId": "89e97cd7-a1b6-4baa-f867-d23a89d69c6c"
      },
      "source": [
        "h=np.array([[1,2,3],[1,2,3]])\r\n",
        "print(h)\r\n",
        "print(h.sum(axis=0))#axis=0 is rows;axis=1 is colums\r\n",
        "print(h.cumsum())\r\n",
        "print(h.prod())\r\n",
        "print(h.cumprod())\r\n",
        "print(h.ptp(axis=0))#peak to peak ===range{max-min}\r\n",
        "print(h.min(axis=1))\r\n",
        "#print(h.max())\r\n",
        "#print(h.mean())"
      ],
      "execution_count": null,
      "outputs": [
        {
          "output_type": "stream",
          "text": [
            "[[1 2 3]\n",
            " [1 2 3]]\n",
            "[2 4 6]\n",
            "[ 1  3  6  7  9 12]\n",
            "36\n",
            "[ 1  2  6  6 12 36]\n",
            "[0 0 0]\n"
          ],
          "name": "stdout"
        }
      ]
    },
    {
      "cell_type": "markdown",
      "metadata": {
        "id": "HIRzmyA7w4TY"
      },
      "source": [
        "**TWO ARRAY OPERATIONS**"
      ]
    },
    {
      "cell_type": "code",
      "metadata": {
        "id": "N6apnS7IxCWi",
        "colab": {
          "base_uri": "https://localhost:8080/"
        },
        "outputId": "30396226-4971-49a7-db34-418788355dd3"
      },
      "source": [
        "h1=np.arange(1,11,1)\r\n",
        "h=h1.reshape(2,5)\r\n",
        "i1=np.arange(11,21,1)\r\n",
        "i=i1.reshape(2,5)\r\n",
        "print(h)\r\n",
        "print(i)\r\n",
        "print(h+i)\r\n",
        "print(h-i)\r\n",
        "print(h*i)\r\n",
        "#print(h/i)\r\n",
        "print(h//i)\r\n",
        "#print(np.dot(h,i))#vector_dot_product\r\n",
        "#print(np.power(h,i))\r\n",
        "a1=np.array([[1,2,3],[1,2,3],[1,2,3]])\r\n",
        "a2=a1.T\r\n",
        "print(np.matmul(a1,a2))"
      ],
      "execution_count": null,
      "outputs": [
        {
          "output_type": "stream",
          "text": [
            "[[ 1  2  3  4  5]\n",
            " [ 6  7  8  9 10]]\n",
            "[[11 12 13 14 15]\n",
            " [16 17 18 19 20]]\n",
            "[[12 14 16 18 20]\n",
            " [22 24 26 28 30]]\n",
            "[[-10 -10 -10 -10 -10]\n",
            " [-10 -10 -10 -10 -10]]\n",
            "[[ 11  24  39  56  75]\n",
            " [ 96 119 144 171 200]]\n",
            "[[0 0 0 0 0]\n",
            " [0 0 0 0 0]]\n",
            "[[14 14 14]\n",
            " [14 14 14]\n",
            " [14 14 14]]\n"
          ],
          "name": "stdout"
        }
      ]
    }
  ]
}